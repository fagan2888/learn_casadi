{
 "cells": [
  {
   "cell_type": "markdown",
   "metadata": {},
   "source": [
    "## Parameter Estimation Example\n",
    "This example is from the [computational appendix](https://sites.engineering.ucsb.edu/~jbraw/chemreacfun/web-appendix.pdf) of James Rawlings [reactor design book](https://sites.engineering.ucsb.edu/~jbraw/chemreacfun/). The code for the example in octave is in this [location](https://github.com/rawlings-group/paresto/blob/master/examples/green_book/ABC.m). The octave version uses a more general parameter estimation routine [paresto](https://github.com/rawlings-group/paresto) written using CasADi. Here, I have attempted to recreate the example from scratch as a way to learn CasADi."
   ]
  },
  {
   "cell_type": "code",
   "execution_count": 1,
   "metadata": {},
   "outputs": [],
   "source": [
    "from casadi import *\n",
    "import numpy as np\n",
    "import pandas as pd\n",
    "from scipy import linalg\n",
    "from scipy.stats import chi2, f\n",
    "import matplotlib.pyplot as plt"
   ]
  },
  {
   "cell_type": "code",
   "execution_count": 2,
   "metadata": {},
   "outputs": [
    {
     "data": {
      "text/html": [
       "<div>\n",
       "<style scoped>\n",
       "    .dataframe tbody tr th:only-of-type {\n",
       "        vertical-align: middle;\n",
       "    }\n",
       "\n",
       "    .dataframe tbody tr th {\n",
       "        vertical-align: top;\n",
       "    }\n",
       "\n",
       "    .dataframe thead th {\n",
       "        text-align: right;\n",
       "    }\n",
       "</style>\n",
       "<table border=\"1\" class=\"dataframe\">\n",
       "  <thead>\n",
       "    <tr style=\"text-align: right;\">\n",
       "      <th></th>\n",
       "      <th>t</th>\n",
       "      <th>ca</th>\n",
       "      <th>cb</th>\n",
       "      <th>cc</th>\n",
       "    </tr>\n",
       "  </thead>\n",
       "  <tbody>\n",
       "    <tr>\n",
       "      <td>0</td>\n",
       "      <td>0.000</td>\n",
       "      <td>0.957</td>\n",
       "      <td>-0.031</td>\n",
       "      <td>-0.015</td>\n",
       "    </tr>\n",
       "    <tr>\n",
       "      <td>1</td>\n",
       "      <td>0.263</td>\n",
       "      <td>0.557</td>\n",
       "      <td>0.330</td>\n",
       "      <td>0.044</td>\n",
       "    </tr>\n",
       "    <tr>\n",
       "      <td>2</td>\n",
       "      <td>0.526</td>\n",
       "      <td>0.342</td>\n",
       "      <td>0.512</td>\n",
       "      <td>0.156</td>\n",
       "    </tr>\n",
       "    <tr>\n",
       "      <td>3</td>\n",
       "      <td>0.789</td>\n",
       "      <td>0.224</td>\n",
       "      <td>0.499</td>\n",
       "      <td>0.310</td>\n",
       "    </tr>\n",
       "    <tr>\n",
       "      <td>4</td>\n",
       "      <td>1.053</td>\n",
       "      <td>0.123</td>\n",
       "      <td>0.428</td>\n",
       "      <td>0.454</td>\n",
       "    </tr>\n",
       "  </tbody>\n",
       "</table>\n",
       "</div>"
      ],
      "text/plain": [
       "       t     ca     cb     cc\n",
       "0  0.000  0.957 -0.031 -0.015\n",
       "1  0.263  0.557  0.330  0.044\n",
       "2  0.526  0.342  0.512  0.156\n",
       "3  0.789  0.224  0.499  0.310\n",
       "4  1.053  0.123  0.428  0.454"
      ]
     },
     "execution_count": 2,
     "metadata": {},
     "output_type": "execute_result"
    }
   ],
   "source": [
    "# read data\n",
    "data_df = pd.read_csv('ABC_data.csv')\n",
    "data_df.head()"
   ]
  },
  {
   "cell_type": "code",
   "execution_count": 3,
   "metadata": {},
   "outputs": [],
   "source": [
    "t_exp = data_df['t'].values\n",
    "ca_exp = data_df['ca'].values\n",
    "cb_exp = data_df['cb'].values\n",
    "cc_exp = data_df['cc'].values"
   ]
  },
  {
   "cell_type": "code",
   "execution_count": 4,
   "metadata": {},
   "outputs": [],
   "source": [
    "# Define concentration variables\n",
    "cA = MX.sym('cA')\n",
    "cB = MX.sym('cB')\n",
    "cC = MX.sym('cC')"
   ]
  },
  {
   "cell_type": "code",
   "execution_count": 5,
   "metadata": {},
   "outputs": [
    {
     "data": {
      "text/plain": [
       "MX(vertcat(cA, cB, cC))"
      ]
     },
     "execution_count": 5,
     "metadata": {},
     "output_type": "execute_result"
    }
   ],
   "source": [
    "x = vertcat(cA, cB, cC)\n",
    "x"
   ]
  },
  {
   "cell_type": "code",
   "execution_count": 6,
   "metadata": {},
   "outputs": [
    {
     "data": {
      "text/plain": [
       "MX(vertcat(k1, k2))"
      ]
     },
     "execution_count": 6,
     "metadata": {},
     "output_type": "execute_result"
    }
   ],
   "source": [
    "# Define rate constants\n",
    "k1 = MX.sym('k1')\n",
    "k2 = MX.sym('k2')\n",
    "p = vertcat(k1, k2)\n",
    "p"
   ]
  },
  {
   "cell_type": "code",
   "execution_count": 7,
   "metadata": {},
   "outputs": [],
   "source": [
    "# Define rates for ODE\n",
    "r1 = k1 * cA\n",
    "r2 = k2 * cB\n",
    "dcA = -r1\n",
    "dcB = r1 - r2\n",
    "dcC = r2"
   ]
  },
  {
   "cell_type": "code",
   "execution_count": 8,
   "metadata": {},
   "outputs": [
    {
     "data": {
      "text/plain": [
       "MX(@1=(k1*cA), @2=(k2*cB), vertcat((-@1), (@1-@2), @2))"
      ]
     },
     "execution_count": 8,
     "metadata": {},
     "output_type": "execute_result"
    }
   ],
   "source": [
    "ode_rhs = vertcat(dcA, dcB, dcC)\n",
    "ode_rhs"
   ]
  },
  {
   "cell_type": "code",
   "execution_count": 9,
   "metadata": {},
   "outputs": [],
   "source": [
    "ode = {'x': x, 'p': p, 'ode': ode_rhs}"
   ]
  },
  {
   "cell_type": "code",
   "execution_count": 10,
   "metadata": {},
   "outputs": [
    {
     "data": {
      "text/plain": [
       "array([0.   , 0.263, 0.526, 0.789, 1.053, 1.316, 1.579, 1.842, 2.105,\n",
       "       2.368, 2.632, 2.895, 3.158, 3.421, 3.684, 3.947, 4.211, 4.474,\n",
       "       4.737, 5.   ])"
      ]
     },
     "execution_count": 10,
     "metadata": {},
     "output_type": "execute_result"
    }
   ],
   "source": [
    "# times when experimental data is available\n",
    "t_exp"
   ]
  },
  {
   "cell_type": "code",
   "execution_count": 11,
   "metadata": {},
   "outputs": [],
   "source": [
    "# create the sum of square errors function\n",
    "tprev = 0.0\n",
    "x0 = [1.0, 0.0, 0.0]\n",
    "p = vertcat(k1, k2)\n",
    "ssq = 0\n",
    "for (i, t) in enumerate(t_exp[1:]):\n",
    "    tdel = t - tprev\n",
    "#    print(i, t, tdel)\n",
    "    F = integrator('F','cvodes',ode,{'tf':tdel})\n",
    "    res = F(x0 = x0, p = p)\n",
    "    x0 = res['xf']\n",
    "    tprev = t\n",
    "    ssq = ssq + (res['xf'][0] - ca_exp[i + 1])**2 + (res['xf'][1] - cb_exp[i + 1])**2 + (res['xf'][2] - cc_exp[i + 1])**2"
   ]
  },
  {
   "cell_type": "code",
   "execution_count": 12,
   "metadata": {},
   "outputs": [
    {
     "data": {
      "text/plain": [
       "DM(2.78363)"
      ]
     },
     "execution_count": 12,
     "metadata": {},
     "output_type": "execute_result"
    }
   ],
   "source": [
    "# Evaluate sum of squares at a particular value of k1,k2\n",
    "ssqfn = Function('ssqfn', [p], [ssq])\n",
    "ssqfn([0.5, 3])"
   ]
  },
  {
   "cell_type": "code",
   "execution_count": 13,
   "metadata": {},
   "outputs": [
    {
     "data": {
      "text/plain": [
       "MX(@1=vertcat(k1, k2), @2=F([1, 0, 0], @1, 0x1, 0x1, 0x1, 0x1){0}, @3=F(@2, @1, 0x1, 0x1, 0x1, 0x1){0}, @4=F(@3, @1, 0x1, 0x1, 0x1, 0x1){0}, @5=F(@4, @1, 0x1, 0x1, 0x1, 0x1){0}, @6=F(@5, @1, 0x1, 0x1, 0x1, 0x1){0}, @7=F(@6, @1, 0x1, 0x1, 0x1, 0x1){0}, @8=F(@7, @1, 0x1, 0x1, 0x1, 0x1){0}, @9=F(@8, @1, 0x1, 0x1, 0x1, 0x1){0}, @10=F(@9, @1, 0x1, 0x1, 0x1, 0x1){0}, @11=F(@10, @1, 0x1, 0x1, 0x1, 0x1){0}, @12=F(@11, @1, 0x1, 0x1, 0x1, 0x1){0}, @13=F(@12, @1, 0x1, 0x1, 0x1, 0x1){0}, @14=F(@13, @1, 0x1, 0x1, 0x1, 0x1){0}, @15=F(@14, @1, 0x1, 0x1, 0x1, 0x1){0}, @16=F(@15, @1, 0x1, 0x1, 0x1, 0x1){0}, @17=F(@16, @1, 0x1, 0x1, 0x1, 0x1){0}, @18=F(@17, @1, 0x1, 0x1, 0x1, 0x1){0}, @19=F(@18, @1, 0x1, 0x1, 0x1, 0x1){0}, @20=F(@19, @1, 0x1, 0x1, 0x1, 0x1){0}, ((((((((((((((((((((((((((((((((((((((((((((((((((((((((sq((@2[0]-0.557))+sq((@2[1]-0.33)))+sq((@2[2]-0.044)))+sq((@3[0]-0.342)))+sq((@3[1]-0.512)))+sq((@3[2]-0.156)))+sq((@4[0]-0.224)))+sq((@4[1]-0.499)))+sq((@4[2]-0.31)))+sq((@5[0]-0.123)))+sq((@5[1]-0.428)))+sq((@5[2]-0.454)))+sq((@6[0]-0.079)))+sq((@6[1]-0.396)))+sq((@6[2]-0.556)))+sq((@7[0]-0.035)))+sq((@7[1]-0.303)))+sq((@7[2]-0.651)))+sq((@8[0]-0.029)))+sq((@8[1]-0.287)))+sq((@8[2]-0.658)))+sq((@9[0]-0.025)))+sq((@9[1]-0.221)))+sq((@9[2]-0.75)))+sq((@10[0]-0.017)))+sq((@10[1]-0.148)))+sq((@10[2]-0.854)))+sq((@11[0]--0.002)))+sq((@11[1]-0.182)))+sq((@11[2]-0.845)))+sq((@12[0]-0.009)))+sq((@12[1]-0.116)))+sq((@12[2]-0.893)))+sq((@13[0]--0.023)))+sq((@13[1]-0.079)))+sq((@13[2]-0.942)))+sq((@14[0]-0.006)))+sq((@14[1]-0.078)))+sq((@14[2]-0.899)))+sq((@15[0]-0.016)))+sq((@15[1]-0.059)))+sq((@15[2]-0.942)))+sq((@16[0]-0.014)))+sq((@16[1]-0.036)))+sq((@16[2]-0.991)))+sq((@17[0]--0.009)))+sq((@17[1]-0.014)))+sq((@17[2]-0.988)))+sq((@18[0]--0.03)))+sq((@18[1]-0.036)))+sq((@18[2]-0.941)))+sq((@19[0]-0.004)))+sq((@19[1]-0.036)))+sq((@19[2]-0.971)))+sq((@20[0]--0.024)))+sq((@20[1]-0.028)))+sq((@20[2]-0.985))))"
      ]
     },
     "execution_count": 13,
     "metadata": {},
     "output_type": "execute_result"
    }
   ],
   "source": [
    "ssq"
   ]
  },
  {
   "cell_type": "code",
   "execution_count": 91,
   "metadata": {},
   "outputs": [],
   "source": [
    "# function to calcuate hessian of sum of squares with respect to p = (k1, k2)\n",
    "ssqfn_hess_calc = hessian(ssqfn(p), p)\n",
    "ssqfn_hess = Function('ssqfn_hess', [p], [ssqfn_hess_calc[0]])"
   ]
  },
  {
   "cell_type": "code",
   "execution_count": 92,
   "metadata": {},
   "outputs": [
    {
     "name": "stdout",
     "output_type": "stream",
     "text": [
      "This is Ipopt version 3.12.3, running with linear solver mumps.\n",
      "NOTE: Other linear solvers might be more efficient (see Ipopt documentation).\n",
      "\n",
      "Number of nonzeros in equality constraint Jacobian...:        0\n",
      "Number of nonzeros in inequality constraint Jacobian.:        0\n",
      "Number of nonzeros in Lagrangian Hessian.............:        3\n",
      "\n",
      "Total number of variables............................:        2\n",
      "                     variables with only lower bounds:        0\n",
      "                variables with lower and upper bounds:        0\n",
      "                     variables with only upper bounds:        0\n",
      "Total number of equality constraints.................:        0\n",
      "Total number of inequality constraints...............:        0\n",
      "        inequality constraints with only lower bounds:        0\n",
      "   inequality constraints with lower and upper bounds:        0\n",
      "        inequality constraints with only upper bounds:        0\n",
      "\n",
      "iter    objective    inf_pr   inf_du lg(mu)  ||d||  lg(rg) alpha_du alpha_pr  ls\n",
      "   0  2.7836323e+00 0.00e+00 9.74e+00  -1.0 0.00e+00    -  0.00e+00 0.00e+00   0\n",
      "   1  2.2266822e+00 0.00e+00 8.02e+00  -1.0 5.01e+00    -  1.00e+00 2.50e-01f  3\n",
      "   2  1.0062049e+00 0.00e+00 3.24e+00  -1.0 2.38e-01    -  1.00e+00 1.00e+00f  1\n",
      "   3  4.0439950e-01 0.00e+00 1.36e+00  -1.0 3.48e-01    -  1.00e+00 1.00e+00f  1\n",
      "   4  1.3479555e-01 0.00e+00 4.96e-01  -1.0 3.20e-01    -  1.00e+00 1.00e+00f  1\n",
      "   5  4.3044291e-02 0.00e+00 1.61e-01  -1.7 3.10e-01    -  1.00e+00 1.00e+00f  1\n",
      "   6  2.4357669e-02 0.00e+00 3.51e-02  -2.5 2.09e-01    -  1.00e+00 1.00e+00f  1\n",
      "   7  2.3032711e-02 0.00e+00 2.94e-03  -2.5 7.44e-02    -  1.00e+00 1.00e+00f  1\n",
      "   8  2.3022386e-02 0.00e+00 2.54e-05  -3.8 7.30e-03    -  1.00e+00 1.00e+00f  1\n",
      "   9  2.3022385e-02 0.00e+00 3.17e-09  -5.7 6.40e-05    -  1.00e+00 1.00e+00f  1\n",
      "\n",
      "Number of Iterations....: 9\n",
      "\n",
      "                                   (scaled)                 (unscaled)\n",
      "Objective...............:   2.3022385394334377e-02    2.3022385394334377e-02\n",
      "Dual infeasibility......:   3.1664810105566654e-09    3.1664810105566654e-09\n",
      "Constraint violation....:   0.0000000000000000e+00    0.0000000000000000e+00\n",
      "Complementarity.........:   0.0000000000000000e+00    0.0000000000000000e+00\n",
      "Overall NLP error.......:   3.1664810105566654e-09    3.1664810105566654e-09\n",
      "\n",
      "\n",
      "Number of objective function evaluations             = 16\n",
      "Number of objective gradient evaluations             = 10\n",
      "Number of equality constraint evaluations            = 0\n",
      "Number of inequality constraint evaluations          = 0\n",
      "Number of equality constraint Jacobian evaluations   = 0\n",
      "Number of inequality constraint Jacobian evaluations = 0\n",
      "Number of Lagrangian Hessian evaluations             = 9\n",
      "Total CPU secs in IPOPT (w/o function evaluations)   =      0.021\n",
      "Total CPU secs in NLP function evaluations           =      0.529\n",
      "\n",
      "EXIT: Optimal Solution Found.\n",
      "      solver  :   t_proc      (avg)   t_wall      (avg)    n_eval\n",
      "       nlp_f  |  54.17ms (  3.39ms)  54.14ms (  3.38ms)        16\n",
      "  nlp_grad_f  | 157.58ms ( 14.33ms) 156.93ms ( 14.27ms)        11\n",
      "  nlp_hess_l  | 473.85ms ( 52.65ms) 473.10ms ( 52.57ms)         9\n",
      "       total  | 699.59ms (699.59ms) 696.47ms (696.47ms)         1\n"
     ]
    }
   ],
   "source": [
    "# NLP declaration\n",
    "nlp = {'x': p,'f': ssq};\n",
    "\n",
    "# Solve using IPOPT\n",
    "solver = nlpsol('solver','ipopt',nlp)\n",
    "res = solver(x0=[0.5, 3])\n"
   ]
  },
  {
   "cell_type": "code",
   "execution_count": 93,
   "metadata": {},
   "outputs": [
    {
     "data": {
      "text/plain": [
       "array([[2.01906606, 0.99297368]])"
      ]
     },
     "execution_count": 93,
     "metadata": {},
     "output_type": "execute_result"
    }
   ],
   "source": [
    "# Solution\n",
    "p_est = res['x'].full().T\n",
    "p_est"
   ]
  },
  {
   "cell_type": "code",
   "execution_count": 94,
   "metadata": {},
   "outputs": [
    {
     "name": "stdout",
     "output_type": "stream",
     "text": [
      "mean sum of squares 0.000396938\n",
      "Covariance matrix\n",
      "\n",
      "[[0.00214782, -0.000326089], \n",
      " [-0.000326089, 0.000285287]]\n"
     ]
    }
   ],
   "source": [
    "## calculate covariance matrix\n",
    "\n",
    "# number of estiamted parameters\n",
    "n_est = 2\n",
    "# number of data points\n",
    "n_data = len(t_exp) * 3\n",
    "\n",
    "\n",
    "# hessian\n",
    "H_sol = ssqfn_hess(p_est)\n",
    "# mean sum of squares\n",
    "msq = res['f'] / (n_data - n_est)\n",
    "print(\"mean sum of squares\", msq)\n",
    "\n",
    "print(\"Covariance matrix\")\n",
    "cov = 2 * msq * linalg.inv(H_sol)\n",
    "print(cov)"
   ]
  },
  {
   "cell_type": "code",
   "execution_count": 95,
   "metadata": {},
   "outputs": [
    {
     "data": {
      "text/plain": [
       "array([0.11643342, 0.0424346 ])"
      ]
     },
     "execution_count": 95,
     "metadata": {},
     "output_type": "execute_result"
    }
   ],
   "source": [
    "# Confidence interval (deviation from estimate)\n",
    "np.sqrt(np.diag(cov)) * np.sqrt(n_est * f.ppf(0.95, n_est, n_data - n_est))"
   ]
  },
  {
   "cell_type": "code",
   "execution_count": 96,
   "metadata": {},
   "outputs": [],
   "source": [
    "# Simulate again with estimated rate constants\n",
    "tgrid = np.linspace(0, 5, 100)\n",
    "F = integrator('F','cvodes',ode,{'tf':5, 'grid': tgrid, 'output_t0' : True})\n",
    "res = F(x0 = [1.0, 0.0, 0.0], p = res['x'].full().T)"
   ]
  },
  {
   "cell_type": "code",
   "execution_count": 97,
   "metadata": {},
   "outputs": [
    {
     "data": {
      "text/plain": [
       "<matplotlib.legend.Legend at 0x1a1e6e2fd0>"
      ]
     },
     "execution_count": 97,
     "metadata": {},
     "output_type": "execute_result"
    },
    {
     "data": {
      "image/png": "[encoded data removed]",
      "text/plain": [
       "<Figure size 432x288 with 1 Axes>"
      ]
     },
     "metadata": {
      "needs_background": "light"
     },
     "output_type": "display_data"
    }
   ],
   "source": [
    "# plot prediction and data\n",
    "xsol = res['xf'].full().T\n",
    "fig, ax = plt.subplots()\n",
    "ax.plot(tgrid, xsol)\n",
    "ax.scatter(t_exp, ca_exp, label = 'ca')\n",
    "ax.scatter(t_exp, cb_exp, label = 'cb')\n",
    "ax.scatter(t_exp, cc_exp, label = 'cc')\n",
    "ax.legend()"
   ]
  },
  {
   "cell_type": "code",
   "execution_count": null,
   "metadata": {},
   "outputs": [],
   "source": []
  }
 ],
 "metadata": {
  "kernelspec": {
   "display_name": "Python 3",
   "language": "python",
   "name": "python3"
  },
  "language_info": {
   "codemirror_mode": {
    "name": "ipython",
    "version": 3
   },
   "file_extension": ".py",
   "mimetype": "text/x-python",
   "name": "python",
   "nbconvert_exporter": "python",
   "pygments_lexer": "ipython3",
   "version": "3.6.9"
  }
 },
 "nbformat": 4,
 "nbformat_minor": 2
}
