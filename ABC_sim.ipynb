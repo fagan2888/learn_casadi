{
 "cells": [
  {
   "cell_type": "markdown",
   "metadata": {},
   "source": [
    "Simulation of a series reaction $A \\rightarrow B \\rightarrow C$ for a given value of rate constants. \n",
    "This example is from James Rawlings [reactor design book](https://sites.engineering.ucsb.edu/~jbraw/chemreacfun/) and the parameter estimation [code](https://github.com/rawlings-group/paresto/blob/master/examples/green_book/ABC.m)"
   ]
  },
  {
   "cell_type": "code",
   "execution_count": 1,
   "metadata": {},
   "outputs": [],
   "source": [
    "from casadi import *\n",
    "import numpy as np\n",
    "import matplotlib.pyplot as plt"
   ]
  },
  {
   "cell_type": "code",
   "execution_count": 13,
   "metadata": {},
   "outputs": [],
   "source": [
    "cA = MX.sym('cA')\n",
    "cB = MX.sym('cB')\n",
    "cC = MX.sym('cC')"
   ]
  },
  {
   "cell_type": "code",
   "execution_count": 14,
   "metadata": {},
   "outputs": [
    {
     "data": {
      "text/plain": [
       "MX(vertcat(cA, cB, cC))"
      ]
     },
     "execution_count": 14,
     "metadata": {},
     "output_type": "execute_result"
    }
   ],
   "source": [
    "x = vertcat(cA, cB, cC)\n",
    "x"
   ]
  },
  {
   "cell_type": "code",
   "execution_count": 15,
   "metadata": {},
   "outputs": [
    {
     "data": {
      "text/plain": [
       "MX(vertcat(k1, k2))"
      ]
     },
     "execution_count": 15,
     "metadata": {},
     "output_type": "execute_result"
    }
   ],
   "source": [
    "k1 = MX.sym('k1')\n",
    "k2 = MX.sym('k2')\n",
    "p = vertcat(k1, k2)\n",
    "p"
   ]
  },
  {
   "cell_type": "code",
   "execution_count": 16,
   "metadata": {},
   "outputs": [],
   "source": [
    "# rate equations\n",
    "r1 = k1 * cA\n",
    "r2 = k2 * cB\n",
    "dcA = -r1\n",
    "dcB = r1 - r2\n",
    "dcC = r2"
   ]
  },
  {
   "cell_type": "code",
   "execution_count": 17,
   "metadata": {},
   "outputs": [
    {
     "data": {
      "text/plain": [
       "MX(@1=(k1*cA), @2=(k2*cB), vertcat((-@1), (@1-@2), @2))"
      ]
     },
     "execution_count": 17,
     "metadata": {},
     "output_type": "execute_result"
    }
   ],
   "source": [
    "ode = vertcat(dcA, dcB, dcC)\n",
    "ode"
   ]
  },
  {
   "cell_type": "code",
   "execution_count": 18,
   "metadata": {},
   "outputs": [],
   "source": [
    "ode = {'x': x, 'p': p, 'ode': ode}"
   ]
  },
  {
   "cell_type": "code",
   "execution_count": 19,
   "metadata": {},
   "outputs": [],
   "source": [
    "tgrid = np.linspace(0, 5, 100)\n",
    "F = integrator('F','cvodes',ode,{'tf':5, 'grid': tgrid, 'output_t0' : True})"
   ]
  },
  {
   "cell_type": "code",
   "execution_count": 20,
   "metadata": {},
   "outputs": [
    {
     "data": {
      "text/plain": [
       "{'qf': DM([]), 'rqf': DM([]), 'rxf': DM([]), 'rzf': DM([]), 'xf': DM(\n",
       " [[1, 0.975064, 0.950749, 0.927041, 0.903924, 0.881383, 0.859405, 0.837974, 0.817078, 0.796703, 0.776837, 0.757465, 0.738577, 0.720159, 0.702201, 0.684691, 0.667617, 0.650969, 0.634736, 0.618908, 0.603475, 0.588427, 0.573753, 0.559446, 0.545496, 0.531893, 0.518629, 0.505697, 0.493086, 0.480791, 0.468802, 0.457111, 0.445713, 0.434598, 0.423761, 0.413194, 0.40289, 0.392844, 0.383048, 0.373496, 0.364182, 0.355101, 0.346246, 0.337612, 0.329193, 0.320984, 0.31298, 0.305175, 0.297565, 0.290145, 0.28291, 0.275855, 0.268976, 0.262269, 0.255729, 0.249352, 0.243134, 0.237071, 0.23116, 0.225395, 0.219775, 0.214295, 0.208951, 0.20374, 0.19866, 0.193706, 0.188876, 0.184166, 0.179573, 0.175095, 0.170729, 0.166472, 0.162321, 0.158273, 0.154326, 0.150478, 0.146726, 0.143067, 0.139499, 0.136021, 0.132629, 0.129321, 0.126097, 0.122952, 0.119886, 0.116897, 0.113982, 0.11114, 0.108368, 0.105666, 0.103031, 0.100462, 0.0979566, 0.095514, 0.0931322, 0.0908098, 0.0885454, 0.0863374, 0.0841844, 0.0820852], \n",
       "  [0, 0.0231317, 0.0424345, 0.0584609, 0.0716857, 0.0825163, 0.0913029, 0.0983457, 0.103903, 0.108195, 0.111412, 0.113718, 0.115251, 0.116132, 0.116463, 0.116332, 0.115814, 0.114974, 0.113868, 0.112541, 0.111035, 0.109383, 0.107616, 0.105757, 0.103829, 0.10185, 0.0998337, 0.0977943, 0.0957426, 0.0936876, 0.0916371, 0.0895975, 0.0875743, 0.0855719, 0.0835939, 0.0816434, 0.0797226, 0.0778335, 0.0759777, 0.0741562, 0.0723698, 0.0706191, 0.0689045, 0.0672261, 0.065584, 0.063978, 0.0624079, 0.0608734, 0.0593741, 0.0579096, 0.0564794, 0.0550828, 0.0537195, 0.0523887, 0.0510898, 0.0498223, 0.0485855, 0.0473787, 0.0462014, 0.0450528, 0.0439324, 0.0428395, 0.0417735, 0.0407337, 0.0397196, 0.0387306, 0.037766, 0.0368253, 0.0359079, 0.0350132, 0.0341408, 0.03329, 0.0324604, 0.0316514, 0.0308625, 0.0300932, 0.0293431, 0.0286116, 0.0278983, 0.0272028, 0.0265246, 0.0258633, 0.0252185, 0.0245897, 0.0239766, 0.0233788, 0.0227958, 0.0222274, 0.0216732, 0.0211328, 0.0206059, 0.0200921, 0.0195911, 0.0191026, 0.0186262, 0.0181618, 0.0177089, 0.0172673, 0.0168368, 0.0164169], \n",
       "  [0, 0.0018046, 0.00681639, 0.0144982, 0.0243904, 0.0361003, 0.0492923, 0.0636799, 0.0790191, 0.0951018, 0.111751, 0.128817, 0.146172, 0.163709, 0.181336, 0.198977, 0.216569, 0.234056, 0.251396, 0.268551, 0.28549, 0.30219, 0.318631, 0.334797, 0.350675, 0.366257, 0.381537, 0.396509, 0.411171, 0.425522, 0.439561, 0.453291, 0.466713, 0.47983, 0.492645, 0.505163, 0.517387, 0.529323, 0.540975, 0.552348, 0.563448, 0.57428, 0.58485, 0.595162, 0.605223, 0.615038, 0.624612, 0.633951, 0.64306, 0.651945, 0.660611, 0.669062, 0.677304, 0.685342, 0.693181, 0.700825, 0.70828, 0.71555, 0.722639, 0.729552, 0.736293, 0.742866, 0.749276, 0.755526, 0.761621, 0.767564, 0.773358, 0.779009, 0.784519, 0.789891, 0.79513, 0.800238, 0.805219, 0.810076, 0.814811, 0.819429, 0.823931, 0.828322, 0.832603, 0.836777, 0.840847, 0.844815, 0.848685, 0.852458, 0.856137, 0.859724, 0.863222, 0.866633, 0.869959, 0.873201, 0.876363, 0.879446, 0.882452, 0.885383, 0.888242, 0.891028, 0.893746, 0.896395, 0.898979, 0.901498]]), 'zf': DM([])}"
      ]
     },
     "execution_count": 20,
     "metadata": {},
     "output_type": "execute_result"
    }
   ],
   "source": [
    "res = F(x0 = [1.0, 0.0, 0.0], p = [0.5, 3])\n",
    "res"
   ]
  },
  {
   "cell_type": "code",
   "execution_count": 21,
   "metadata": {},
   "outputs": [],
   "source": [
    "xsol = res['xf'].full().T"
   ]
  },
  {
   "cell_type": "code",
   "execution_count": 22,
   "metadata": {},
   "outputs": [
    {
     "data": {
      "text/plain": [
       "[<matplotlib.lines.Line2D at 0x11fdaa320>,\n",
       " <matplotlib.lines.Line2D at 0x11fdaa470>,\n",
       " <matplotlib.lines.Line2D at 0x11fdaa5c0>]"
      ]
     },
     "execution_count": 22,
     "metadata": {},
     "output_type": "execute_result"
    },
    {
     "data": {
      "image/png": "[encoded data removed]",
      "text/plain": [
       "<Figure size 432x288 with 1 Axes>"
      ]
     },
     "metadata": {
      "needs_background": "light"
     },
     "output_type": "display_data"
    }
   ],
   "source": [
    "plt.plot(tgrid, xsol)"
   ]
  },
  {
   "cell_type": "code",
   "execution_count": null,
   "metadata": {},
   "outputs": [],
   "source": []
  }
 ],
 "metadata": {
  "kernelspec": {
   "display_name": "Python 3",
   "language": "python",
   "name": "python3"
  },
  "language_info": {
   "codemirror_mode": {
    "name": "ipython",
    "version": 3
   },
   "file_extension": ".py",
   "mimetype": "text/x-python",
   "name": "python",
   "nbconvert_exporter": "python",
   "pygments_lexer": "ipython3",
   "version": "3.6.9"
  }
 },
 "nbformat": 4,
 "nbformat_minor": 2
}
