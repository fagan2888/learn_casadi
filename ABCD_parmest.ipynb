{
 "cells": [
  {
   "cell_type": "code",
   "execution_count": 31,
   "metadata": {},
   "outputs": [],
   "source": [
    "import casadi as csd\n",
    "import numpy as np\n",
    "import pandas as pd\n",
    "import matplotlib.pyplot as plt\n",
    "from scipy import linalg\n",
    "from scipy.stats import chi2, f"
   ]
  },
  {
   "cell_type": "code",
   "execution_count": 2,
   "metadata": {},
   "outputs": [
    {
     "data": {
      "text/html": [
       "<div>\n",
       "<style scoped>\n",
       "    .dataframe tbody tr th:only-of-type {\n",
       "        vertical-align: middle;\n",
       "    }\n",
       "\n",
       "    .dataframe tbody tr th {\n",
       "        vertical-align: top;\n",
       "    }\n",
       "\n",
       "    .dataframe thead th {\n",
       "        text-align: right;\n",
       "    }\n",
       "</style>\n",
       "<table border=\"1\" class=\"dataframe\">\n",
       "  <thead>\n",
       "    <tr style=\"text-align: right;\">\n",
       "      <th></th>\n",
       "      <th>t</th>\n",
       "      <th>ca</th>\n",
       "      <th>cb</th>\n",
       "      <th>cc</th>\n",
       "      <th>cd</th>\n",
       "    </tr>\n",
       "  </thead>\n",
       "  <tbody>\n",
       "    <tr>\n",
       "      <td>0</td>\n",
       "      <td>0.204082</td>\n",
       "      <td>0.972924</td>\n",
       "      <td>1.574994</td>\n",
       "      <td>0.079085</td>\n",
       "      <td>-0.034651</td>\n",
       "    </tr>\n",
       "    <tr>\n",
       "      <td>1</td>\n",
       "      <td>0.408163</td>\n",
       "      <td>0.395468</td>\n",
       "      <td>1.452837</td>\n",
       "      <td>0.579926</td>\n",
       "      <td>0.024762</td>\n",
       "    </tr>\n",
       "    <tr>\n",
       "      <td>2</td>\n",
       "      <td>0.612245</td>\n",
       "      <td>0.140956</td>\n",
       "      <td>1.232427</td>\n",
       "      <td>0.436657</td>\n",
       "      <td>0.231741</td>\n",
       "    </tr>\n",
       "    <tr>\n",
       "      <td>3</td>\n",
       "      <td>0.816327</td>\n",
       "      <td>0.655300</td>\n",
       "      <td>1.022851</td>\n",
       "      <td>0.523273</td>\n",
       "      <td>0.128103</td>\n",
       "    </tr>\n",
       "    <tr>\n",
       "      <td>4</td>\n",
       "      <td>1.020408</td>\n",
       "      <td>0.529955</td>\n",
       "      <td>1.141678</td>\n",
       "      <td>0.747955</td>\n",
       "      <td>0.351513</td>\n",
       "    </tr>\n",
       "  </tbody>\n",
       "</table>\n",
       "</div>"
      ],
      "text/plain": [
       "          t        ca        cb        cc        cd\n",
       "0  0.204082  0.972924  1.574994  0.079085 -0.034651\n",
       "1  0.408163  0.395468  1.452837  0.579926  0.024762\n",
       "2  0.612245  0.140956  1.232427  0.436657  0.231741\n",
       "3  0.816327  0.655300  1.022851  0.523273  0.128103\n",
       "4  1.020408  0.529955  1.141678  0.747955  0.351513"
      ]
     },
     "execution_count": 2,
     "metadata": {},
     "output_type": "execute_result"
    }
   ],
   "source": [
    "data = pd.read_csv('ABCD_data.csv')\n",
    "data.head()"
   ]
  },
  {
   "cell_type": "code",
   "execution_count": 4,
   "metadata": {},
   "outputs": [
    {
     "data": {
      "text/plain": [
       "<matplotlib.collections.PathCollection at 0x120e02668>"
      ]
     },
     "execution_count": 4,
     "metadata": {},
     "output_type": "execute_result"
    },
    {
     "data": {
      "image/png": "[encoded data removed]",
      "text/plain": [
       "<Figure size 432x288 with 1 Axes>"
      ]
     },
     "metadata": {
      "needs_background": "light"
     },
     "output_type": "display_data"
    }
   ],
   "source": [
    "fig, ax = plt.subplots()\n",
    "ax.scatter(data['t'], data['cd'])"
   ]
  },
  {
   "cell_type": "code",
   "execution_count": 5,
   "metadata": {},
   "outputs": [],
   "source": [
    "s = np.array([[-1.0, -1.0, 1.0, 0.0],\n",
    "              [0.0, -1.0, -1.0, 1.0]\n",
    "             ])"
   ]
  },
  {
   "cell_type": "code",
   "execution_count": 6,
   "metadata": {},
   "outputs": [],
   "source": [
    "def rxnfn(kf, tf, s):\n",
    "    \n",
    "    nr, nc = s.shape\n",
    "    \n",
    "    c = csd.MX.sym('c', nc)\n",
    "    \n",
    "    r = []\n",
    "    for i in range(nr):\n",
    "        ri = kf[i]\n",
    "        for j in range(nc):\n",
    "            if s[i, j] < 0:\n",
    "                ri = ri * c[j] ** (-s[i, j])\n",
    "        r.append(ri) \n",
    "        \n",
    "    dc = []\n",
    "    for i in range(nc):\n",
    "        dci = 0\n",
    "        for j in range(nr):\n",
    "            dci = dci + s[j, i] * r[j]\n",
    "        dc.append(dci)\n",
    "        \n",
    "    ode = {}\n",
    "    ode['x'] = c\n",
    "    ode['p'] = kf\n",
    "    ode['ode'] = csd.vertcat(*dc)\n",
    "    \n",
    "    F = csd.integrator('F','cvodes',ode,{'tf':tf})\n",
    "    \n",
    "    return F"
   ]
  },
  {
   "cell_type": "code",
   "execution_count": 7,
   "metadata": {},
   "outputs": [],
   "source": [
    "tgrid = np.append(0, data['t'].values)\n",
    "meas_var = ['ca', 'cb', 'cc']\n",
    "meas_var_idx = [0, 1, 2]"
   ]
  },
  {
   "cell_type": "code",
   "execution_count": 15,
   "metadata": {},
   "outputs": [],
   "source": [
    "c0 = [1.0, 2.0, 0.0, 0.0]\n",
    "kf = csd.MX.sym('kf', 2)\n",
    "ssq = 0\n",
    "for i in range(len(tgrid) - 1):\n",
    "    F = rxnfn(kf = kf, tf = tgrid[i + 1] - tgrid[i], s = s)\n",
    "    res = F(x0 = c0, p = kf)\n",
    "    c0 = res['xf']\n",
    "    for (j, var) in enumerate(meas_var):\n",
    "        ssq = ssq + (data.iloc[i][var] - res['xf'][meas_var_idx[j]]) ** 2"
   ]
  },
  {
   "cell_type": "code",
   "execution_count": 16,
   "metadata": {},
   "outputs": [],
   "source": [
    "ssqfn = csd.Function('ssqfn', [kf], [ssq])"
   ]
  },
  {
   "cell_type": "code",
   "execution_count": 26,
   "metadata": {},
   "outputs": [],
   "source": [
    "# function to calcuate hessian of sum of squares with respect to p = (k1, k2)\n",
    "ssqfn_hess_calc = csd.hessian(ssqfn(kf), kf)\n",
    "ssqfn_hess = csd.Function('ssqfn_hess', [kf], [ssqfn_hess_calc[0]])"
   ]
  },
  {
   "cell_type": "code",
   "execution_count": 17,
   "metadata": {},
   "outputs": [
    {
     "data": {
      "text/plain": [
       "MX(@1=F([1, 2, 0, 0], kf, 0x1, 0x1, 0x1, 0x1){0}, @2=F(@1, kf, 0x1, 0x1, 0x1, 0x1){0}, @3=F(@2, kf, 0x1, 0x1, 0x1, 0x1){0}, @4=F(@3, kf, 0x1, 0x1, 0x1, 0x1){0}, @5=F(@4, kf, 0x1, 0x1, 0x1, 0x1){0}, @6=F(@5, kf, 0x1, 0x1, 0x1, 0x1){0}, @7=F(@6, kf, 0x1, 0x1, 0x1, 0x1){0}, @8=F(@7, kf, 0x1, 0x1, 0x1, 0x1){0}, @9=F(@8, kf, 0x1, 0x1, 0x1, 0x1){0}, @10=F(@9, kf, 0x1, 0x1, 0x1, 0x1){0}, @11=F(@10, kf, 0x1, 0x1, 0x1, 0x1){0}, @12=F(@11, kf, 0x1, 0x1, 0x1, 0x1){0}, @13=F(@12, kf, 0x1, 0x1, 0x1, 0x1){0}, @14=F(@13, kf, 0x1, 0x1, 0x1, 0x1){0}, @15=F(@14, kf, 0x1, 0x1, 0x1, 0x1){0}, @16=F(@15, kf, 0x1, 0x1, 0x1, 0x1){0}, @17=F(@16, kf, 0x1, 0x1, 0x1, 0x1){0}, @18=F(@17, kf, 0x1, 0x1, 0x1, 0x1){0}, @19=F(@18, kf, 0x1, 0x1, 0x1, 0x1){0}, @20=F(@19, kf, 0x1, 0x1, 0x1, 0x1){0}, @21=F(@20, kf, 0x1, 0x1, 0x1, 0x1){0}, @22=F(@21, kf, 0x1, 0x1, 0x1, 0x1){0}, @23=F(@22, kf, 0x1, 0x1, 0x1, 0x1){0}, @24=F(@23, kf, 0x1, 0x1, 0x1, 0x1){0}, @25=F(@24, kf, 0x1, 0x1, 0x1, 0x1){0}, @26=F(@25, kf, 0x1, 0x1, 0x1, 0x1){0}, @27=F(@26, kf, 0x1, 0x1, 0x1, 0x1){0}, @28=F(@27, kf, 0x1, 0x1, 0x1, 0x1){0}, @29=F(@28, kf, 0x1, 0x1, 0x1, 0x1){0}, @30=F(@29, kf, 0x1, 0x1, 0x1, 0x1){0}, @31=F(@30, kf, 0x1, 0x1, 0x1, 0x1){0}, @32=F(@31, kf, 0x1, 0x1, 0x1, 0x1){0}, @33=F(@32, kf, 0x1, 0x1, 0x1, 0x1){0}, @34=F(@33, kf, 0x1, 0x1, 0x1, 0x1){0}, @35=F(@34, kf, 0x1, 0x1, 0x1, 0x1){0}, @36=F(@35, kf, 0x1, 0x1, 0x1, 0x1){0}, @37=F(@36, kf, 0x1, 0x1, 0x1, 0x1){0}, @38=F(@37, kf, 0x1, 0x1, 0x1, 0x1){0}, @39=F(@38, kf, 0x1, 0x1, 0x1, 0x1){0}, @40=F(@39, kf, 0x1, 0x1, 0x1, 0x1){0}, @41=F(@40, kf, 0x1, 0x1, 0x1, 0x1){0}, @42=F(@41, kf, 0x1, 0x1, 0x1, 0x1){0}, @43=F(@42, kf, 0x1, 0x1, 0x1, 0x1){0}, @44=F(@43, kf, 0x1, 0x1, 0x1, 0x1){0}, @45=F(@44, kf, 0x1, 0x1, 0x1, 0x1){0}, @46=F(@45, kf, 0x1, 0x1, 0x1, 0x1){0}, @47=F(@46, kf, 0x1, 0x1, 0x1, 0x1){0}, @48=F(@47, kf, 0x1, 0x1, 0x1, 0x1){0}, @49=F(@48, kf, 0x1, 0x1, 0x1, 0x1){0}, ((((((((((((((((((((((((((((((((((((((((((((((((((((((((((((((((((((((((((((((((((((((((((((((((((((((((((((((((((((((((((((((((((((((((((((((((((sq((0.972924-@1[0]))+sq((1.57499-@1[1])))+sq((0.0790854-@1[2])))+sq((0.395468-@2[0])))+sq((1.45284-@2[1])))+sq((0.579926-@2[2])))+sq((0.140956-@3[0])))+sq((1.23243-@3[1])))+sq((0.436657-@3[2])))+sq((0.6553-@4[0])))+sq((1.02285-@4[1])))+sq((0.523273-@4[2])))+sq((0.529955-@5[0])))+sq((1.14168-@5[1])))+sq((0.747955-@5[2])))+sq((-0.0954409-@6[0])))+sq((1.01448-@6[1])))+sq((0.615479-@6[2])))+sq((0.164805-@7[0])))+sq((0.891806-@7[1])))+sq((0.361382-@7[2])))+sq((0.0531032-@8[0])))+sq((0.995949-@8[1])))+sq((0.575295-@8[2])))+sq((0.176303-@9[0])))+sq((0.663692-@9[1])))+sq((0.706896-@9[2])))+sq((0.0356362-@10[0])))+sq((1.00766-@10[1])))+sq((0.597002-@10[2])))+sq((0.350085-@11[0])))+sq((0.881157-@11[1])))+sq((0.510817-@11[2])))+sq((0.323558-@12[0])))+sq((0.620547-@12[1])))+sq((0.828574-@12[2])))+sq((0.428645-@13[0])))+sq((0.801691-@13[1])))+sq((1.04889-@13[2])))+sq((-0.318616-@14[0])))+sq((0.815803-@14[1])))+sq((0.943883-@14[2])))+sq((-0.237687-@15[0])))+sq((0.855589-@15[1])))+sq((0.890561-@15[2])))+sq((0.128632-@16[0])))+sq((0.454119-@16[1])))+sq((0.339155-@16[2])))+sq((-0.0679336-@17[0])))+sq((0.41187-@17[1])))+sq((0.311456-@17[2])))+sq((0.207339-@18[0])))+sq((0.776848-@18[1])))+sq((0.65395-@18[2])))+sq((0.266739-@19[0])))+sq((0.0652991-@19[1])))+sq((0.440911-@19[2])))+sq((0.0446796-@20[0])))+sq((0.47978-@20[1])))+sq((0.527999-@20[2])))+sq((0.105673-@21[0])))+sq((0.718432-@21[1])))+sq((0.526057-@21[2])))+sq((0.130096-@22[0])))+sq((0.665307-@22[1])))+sq((0.632163-@22[2])))+sq((0.107998-@23[0])))+sq((0.262817-@23[1])))+sq((0.461992-@23[2])))+sq((0.0161769-@24[0])))+sq((0.0636963-@24[1])))+sq((0.660792-@24[2])))+sq((0.581773-@25[0])))+sq((0.550814-@25[1])))+sq((0.545909-@25[2])))+sq((0.035017-@26[0])))+sq((0.529251-@26[1])))+sq((0.561615-@26[2])))+sq((-0.113263-@27[0])))+sq((0.894468-@27[1])))+sq((0.508177-@27[2])))+sq((0.309846-@28[0])))+sq((0.344944-@28[1])))+sq((0.369016-@28[2])))+sq((-0.0406035-@29[0])))+sq((0.103613-@29[1])))+sq((0.346272-@29[2])))+sq((0.226566-@30[0])))+sq((0.65586-@30[1])))+sq((0.323843-@30[2])))+sq((-0.169511-@31[0])))+sq((0.80895-@31[1])))+sq((0.409276-@31[2])))+sq((0.0940017-@32[0])))+sq((0.377359-@32[1])))+sq((0.257525-@32[2])))+sq((0.274688-@33[0])))+sq((0.104584-@33[1])))+sq((0.783308-@33[2])))+sq((0.0115786-@34[0])))+sq((0.447502-@34[1])))+sq((0.573047-@34[2])))+sq((0.216134-@35[0])))+sq((0.405699-@35[1])))+sq((0.47958-@35[2])))+sq((0.0892682-@36[0])))+sq((0.43251-@36[1])))+sq((0.118015-@36[2])))+sq((0.255564-@37[0])))+sq((0.609626-@37[1])))+sq((0.848883-@37[2])))+sq((-0.0233309-@38[0])))+sq((0.346829-@38[1])))+sq((0.410073-@38[2])))+sq((-0.338832-@39[0])))+sq((0.448579-@39[1])))+sq((0.428806-@39[2])))+sq((0.249472-@40[0])))+sq((0.19778-@40[1])))+sq((0.22991-@40[2])))+sq((-0.0491523-@41[0])))+sq((0.464741-@41[1])))+sq((0.427873-@41[2])))+sq((0.0267668-@42[0])))+sq((0.548576-@42[1])))+sq((0.109778-@42[2])))+sq((-0.0999181-@43[0])))+sq((0.398748-@43[1])))+sq((0.364033-@43[2])))+sq((0.173771-@44[0])))+sq((0.0506194-@44[1])))+sq((0.346366-@44[2])))+sq((-0.227853-@45[0])))+sq((0.999986-@45[1])))+sq((0.173769-@45[2])))+sq((0.359683-@46[0])))+sq((0.331095-@46[1])))+sq((0.254534-@46[2])))+sq((-0.415916-@47[0])))+sq((0.217961-@47[1])))+sq((0.274379-@47[2])))+sq((0.249623-@48[0])))+sq((0.282635-@48[1])))+sq((0.450307-@48[2])))+sq((0.226174-@49[0])))+sq((0.454403-@49[1])))+sq((0.200841-@49[2]))))"
      ]
     },
     "execution_count": 17,
     "metadata": {},
     "output_type": "execute_result"
    }
   ],
   "source": [
    "ssq"
   ]
  },
  {
   "cell_type": "code",
   "execution_count": 18,
   "metadata": {},
   "outputs": [
    {
     "data": {
      "text/html": [
       "<div>\n",
       "<style scoped>\n",
       "    .dataframe tbody tr th:only-of-type {\n",
       "        vertical-align: middle;\n",
       "    }\n",
       "\n",
       "    .dataframe tbody tr th {\n",
       "        vertical-align: top;\n",
       "    }\n",
       "\n",
       "    .dataframe thead th {\n",
       "        text-align: right;\n",
       "    }\n",
       "</style>\n",
       "<table border=\"1\" class=\"dataframe\">\n",
       "  <thead>\n",
       "    <tr style=\"text-align: right;\">\n",
       "      <th></th>\n",
       "      <th>t</th>\n",
       "      <th>ca</th>\n",
       "      <th>cb</th>\n",
       "      <th>cc</th>\n",
       "      <th>cd</th>\n",
       "    </tr>\n",
       "  </thead>\n",
       "  <tbody>\n",
       "    <tr>\n",
       "      <td>44</td>\n",
       "      <td>9.183673</td>\n",
       "      <td>-0.227853</td>\n",
       "      <td>0.999986</td>\n",
       "      <td>0.173769</td>\n",
       "      <td>0.784113</td>\n",
       "    </tr>\n",
       "    <tr>\n",
       "      <td>45</td>\n",
       "      <td>9.387755</td>\n",
       "      <td>0.359683</td>\n",
       "      <td>0.331095</td>\n",
       "      <td>0.254534</td>\n",
       "      <td>0.733432</td>\n",
       "    </tr>\n",
       "    <tr>\n",
       "      <td>46</td>\n",
       "      <td>9.591837</td>\n",
       "      <td>-0.415916</td>\n",
       "      <td>0.217961</td>\n",
       "      <td>0.274379</td>\n",
       "      <td>0.834746</td>\n",
       "    </tr>\n",
       "    <tr>\n",
       "      <td>47</td>\n",
       "      <td>9.795918</td>\n",
       "      <td>0.249623</td>\n",
       "      <td>0.282635</td>\n",
       "      <td>0.450307</td>\n",
       "      <td>1.125097</td>\n",
       "    </tr>\n",
       "    <tr>\n",
       "      <td>48</td>\n",
       "      <td>10.000000</td>\n",
       "      <td>0.226174</td>\n",
       "      <td>0.454403</td>\n",
       "      <td>0.200841</td>\n",
       "      <td>0.602485</td>\n",
       "    </tr>\n",
       "  </tbody>\n",
       "</table>\n",
       "</div>"
      ],
      "text/plain": [
       "            t        ca        cb        cc        cd\n",
       "44   9.183673 -0.227853  0.999986  0.173769  0.784113\n",
       "45   9.387755  0.359683  0.331095  0.254534  0.733432\n",
       "46   9.591837 -0.415916  0.217961  0.274379  0.834746\n",
       "47   9.795918  0.249623  0.282635  0.450307  1.125097\n",
       "48  10.000000  0.226174  0.454403  0.200841  0.602485"
      ]
     },
     "execution_count": 18,
     "metadata": {},
     "output_type": "execute_result"
    }
   ],
   "source": [
    "data.tail()"
   ]
  },
  {
   "cell_type": "code",
   "execution_count": 21,
   "metadata": {},
   "outputs": [
    {
     "name": "stdout",
     "output_type": "stream",
     "text": [
      "This is Ipopt version 3.12.3, running with linear solver mumps.\n",
      "NOTE: Other linear solvers might be more efficient (see Ipopt documentation).\n",
      "\n",
      "Number of nonzeros in equality constraint Jacobian...:        0\n",
      "Number of nonzeros in inequality constraint Jacobian.:        0\n",
      "Number of nonzeros in Lagrangian Hessian.............:        3\n",
      "\n",
      "Total number of variables............................:        2\n",
      "                     variables with only lower bounds:        0\n",
      "                variables with lower and upper bounds:        2\n",
      "                     variables with only upper bounds:        0\n",
      "Total number of equality constraints.................:        0\n",
      "Total number of inequality constraints...............:        0\n",
      "        inequality constraints with only lower bounds:        0\n",
      "   inequality constraints with lower and upper bounds:        0\n",
      "        inequality constraints with only upper bounds:        0\n",
      "\n",
      "iter    objective    inf_pr   inf_du lg(mu)  ||d||  lg(rg) alpha_du alpha_pr  ls\n",
      "   0  2.6148757e+01 0.00e+00 2.03e+00  -1.0 0.00e+00    -  0.00e+00 0.00e+00   0\n",
      "   1  1.9600672e+01 0.00e+00 2.62e+02  -1.0 7.13e+00   0.0 4.94e-01 4.16e-01f  1\n",
      "   2  1.7828289e+01 0.00e+00 2.46e+02  -1.0 2.64e+01    -  2.05e-01 5.93e-02f  2\n",
      "   3  1.0531108e+01 0.00e+00 9.69e+01  -1.0 7.80e-01    -  1.00e+00 1.00e+00f  1\n",
      "   4  7.3303729e+00 0.00e+00 3.45e+01  -1.0 1.33e-01    -  1.00e+00 1.00e+00f  1\n",
      "   5  6.3815448e+00 0.00e+00 1.02e+01  -1.0 4.66e-02    -  1.00e+00 1.00e+00f  1\n",
      "   6  6.2249947e+00 0.00e+00 1.96e+00  -1.0 2.93e-02    -  1.00e+00 1.00e+00f  1\n",
      "   7  6.2196374e+00 0.00e+00 1.20e-01  -1.0 8.70e-03    -  1.00e+00 1.00e+00f  1\n",
      "   8  6.2185998e+00 0.00e+00 3.65e-03  -2.5 1.70e-02    -  1.00e+00 1.00e+00f  1\n",
      "   9  6.2185994e+00 0.00e+00 4.39e-06  -3.8 8.89e-05    -  1.00e+00 1.00e+00f  1\n",
      "iter    objective    inf_pr   inf_du lg(mu)  ||d||  lg(rg) alpha_du alpha_pr  ls\n",
      "  10  6.2185994e+00 0.00e+00 1.67e-08  -5.7 2.45e-05    -  1.00e+00 1.00e+00f  1\n",
      "  11  6.2185994e+00 0.00e+00 3.88e-10  -8.6 3.01e-07    -  1.00e+00 1.00e+00f  1\n",
      "\n",
      "Number of Iterations....: 11\n",
      "\n",
      "                                   (scaled)                 (unscaled)\n",
      "Objective...............:   6.2185994212886699e+00    6.2185994212886699e+00\n",
      "Dual infeasibility......:   3.8762400666903697e-10    3.8762400666903697e-10\n",
      "Constraint violation....:   0.0000000000000000e+00    0.0000000000000000e+00\n",
      "Complementarity.........:   2.5064885114249004e-09    2.5064885114249004e-09\n",
      "Overall NLP error.......:   2.5064885114249004e-09    2.5064885114249004e-09\n",
      "\n",
      "\n",
      "Number of objective function evaluations             = 17\n",
      "Number of objective gradient evaluations             = 12\n",
      "Number of equality constraint evaluations            = 0\n",
      "Number of inequality constraint evaluations          = 0\n",
      "Number of equality constraint Jacobian evaluations   = 0\n",
      "Number of inequality constraint Jacobian evaluations = 0\n",
      "Number of Lagrangian Hessian evaluations             = 11\n",
      "Total CPU secs in IPOPT (w/o function evaluations)   =      0.034\n",
      "Total CPU secs in NLP function evaluations           =      1.269\n",
      "\n",
      "EXIT: Optimal Solution Found.\n",
      "      solver  :   t_proc      (avg)   t_wall      (avg)    n_eval\n",
      "       nlp_f  | 110.82ms (  6.52ms) 110.34ms (  6.49ms)        17\n",
      "  nlp_grad_f  | 351.94ms ( 27.07ms) 351.35ms ( 27.03ms)        13\n",
      "  nlp_hess_l  |   1.13 s (102.60ms)   1.13 s (102.43ms)        11\n",
      "       total  |   1.61 s (  1.61 s)   1.60 s (  1.60 s)         1\n"
     ]
    }
   ],
   "source": [
    "# NLP declaration\n",
    "nlp = {'x': kf,'f': ssq};\n",
    "\n",
    "# Solve using IPOPT\n",
    "solver = csd.nlpsol('solver','ipopt',nlp)\n",
    "res = solver(x0=[3, 3], lbx = 0, ubx = 10)"
   ]
  },
  {
   "cell_type": "code",
   "execution_count": 29,
   "metadata": {},
   "outputs": [
    {
     "data": {
      "text/plain": [
       "DM([0.949272, 0.212212])"
      ]
     },
     "execution_count": 29,
     "metadata": {},
     "output_type": "execute_result"
    }
   ],
   "source": [
    "p_est = res['x']\n",
    "p_est"
   ]
  },
  {
   "cell_type": "code",
   "execution_count": 32,
   "metadata": {},
   "outputs": [
    {
     "name": "stdout",
     "output_type": "stream",
     "text": [
      "mean sum of squares 0.0428869\n",
      "Covariance matrix\n",
      "\n",
      "[[0.0162838, -0.000272307], \n",
      " [-0.000272307, 0.000427446]]\n"
     ]
    }
   ],
   "source": [
    "## calculate covariance matrix\n",
    "\n",
    "# number of estiamted parameters\n",
    "n_est = 2\n",
    "# number of data points\n",
    "n_data = data.shape[0] * len(meas_var)\n",
    "\n",
    "\n",
    "# hessian\n",
    "H_sol = ssqfn_hess(p_est)\n",
    "# mean sum of squares\n",
    "msq = res['f'] / (n_data - n_est)\n",
    "print(\"mean sum of squares\", msq)\n",
    "\n",
    "print(\"Covariance matrix\")\n",
    "cov = 2 * msq * linalg.inv(H_sol)\n",
    "print(cov)"
   ]
  },
  {
   "cell_type": "code",
   "execution_count": null,
   "metadata": {},
   "outputs": [],
   "source": []
  }
 ],
 "metadata": {
  "kernelspec": {
   "display_name": "Python 3",
   "language": "python",
   "name": "python3"
  },
  "language_info": {
   "codemirror_mode": {
    "name": "ipython",
    "version": 3
   },
   "file_extension": ".py",
   "mimetype": "text/x-python",
   "name": "python",
   "nbconvert_exporter": "python",
   "pygments_lexer": "ipython3",
   "version": "3.6.9"
  }
 },
 "nbformat": 4,
 "nbformat_minor": 2
}
