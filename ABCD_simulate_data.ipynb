{
 "cells": [
  {
   "cell_type": "code",
   "execution_count": 164,
   "metadata": {},
   "outputs": [],
   "source": [
    "import casadi as csd\n",
    "import numpy as np\n",
    "import pandas as pd\n",
    "import matplotlib.pyplot as plt"
   ]
  },
  {
   "cell_type": "code",
   "execution_count": 165,
   "metadata": {},
   "outputs": [],
   "source": [
    "s = np.array([[-1.0, -1.0, 1.0, 0.0],\n",
    "              [0.0, -1.0, -1.0, 1.0]\n",
    "             ])"
   ]
  },
  {
   "cell_type": "code",
   "execution_count": 166,
   "metadata": {},
   "outputs": [],
   "source": [
    "def rxnfn(kf, tf, s):\n",
    "    \n",
    "    nr, nc = s.shape\n",
    "    \n",
    "    c = csd.SX.sym('c', nc)\n",
    "    \n",
    "    r = []\n",
    "    for i in range(nr):\n",
    "        ri = kf[i]\n",
    "        for j in range(nc):\n",
    "            if s[i, j] < 0:\n",
    "                ri = ri * c[j] ** (-s[i, j])\n",
    "        r.append(ri) \n",
    "        \n",
    "    dc = []\n",
    "    for i in range(nc):\n",
    "        dci = 0\n",
    "        for j in range(nr):\n",
    "            dci = dci + s[j, i] * r[j]\n",
    "        dc.append(dci)\n",
    "        \n",
    "    ode = {}\n",
    "    ode['x'] = c\n",
    "    ode['p'] = kf\n",
    "    ode['ode'] = csd.vertcat(*dc)\n",
    "    \n",
    "    F = csd.integrator('F','cvodes',ode,{'tf':tf})\n",
    "    \n",
    "    return F"
   ]
  },
  {
   "cell_type": "code",
   "execution_count": 168,
   "metadata": {},
   "outputs": [
    {
     "data": {
      "text/plain": [
       "DM([0.391509, 0.0212474, 0.238229, 0.370262])"
      ]
     },
     "execution_count": 168,
     "metadata": {},
     "output_type": "execute_result"
    }
   ],
   "source": [
    "tmp = rxnfn(kf = csd.SX.sym('kf', 2), tf = 4, s = s)\n",
    "res = tmp(x0 = [1, 1, 0, 0], p = [1, 2])\n",
    "res['xf']"
   ]
  },
  {
   "cell_type": "code",
   "execution_count": 169,
   "metadata": {},
   "outputs": [],
   "source": [
    "t = np.linspace(0, 10)\n",
    "dt = t[1:] - t[:-1]"
   ]
  },
  {
   "cell_type": "code",
   "execution_count": 170,
   "metadata": {},
   "outputs": [],
   "source": [
    "c0 = [1.0, 2.0, 0.0, 0.0]\n",
    "kf = [1, 0.2]\n",
    "xf_list = np.zeros((len(t), 4))\n",
    "xf_list[0] = np.array(c0)\n",
    "for i in range(len(dt)):\n",
    "    #print(i)\n",
    "    F = rxnfn(kf = csd.SX.sym('kf', 2), tf = dt[i], s = s)\n",
    "    res = F(x0 = c0, p = kf)\n",
    "    xf_list[i + 1,:] = res['xf'].full().T\n",
    "    c0 = res['xf']"
   ]
  },
  {
   "cell_type": "code",
   "execution_count": 171,
   "metadata": {},
   "outputs": [
    {
     "data": {
      "text/plain": [
       "<matplotlib.legend.Legend at 0x11991be48>"
      ]
     },
     "execution_count": 171,
     "metadata": {},
     "output_type": "execute_result"
    },
    {
     "data": {
      "image/png": "[encoded data removed]",
      "text/plain": [
       "<Figure size 432x288 with 1 Axes>"
      ]
     },
     "metadata": {
      "needs_background": "light"
     },
     "output_type": "display_data"
    }
   ],
   "source": [
    "fig, ax = plt.subplots()\n",
    "for i in range(nc):\n",
    "    ax.plot(t, xf_list[:, i], label = i)\n",
    "ax.legend()"
   ]
  },
  {
   "cell_type": "code",
   "execution_count": 172,
   "metadata": {},
   "outputs": [],
   "source": [
    "# Generate dummy data\n",
    "data = xf_list[1:,:] + np.random.normal(0, 0.2, (49, 4))"
   ]
  },
  {
   "cell_type": "code",
   "execution_count": 173,
   "metadata": {},
   "outputs": [],
   "source": [
    "data = np.concatenate((t[1:,np.newaxis], data), axis = 1)"
   ]
  },
  {
   "cell_type": "code",
   "execution_count": 174,
   "metadata": {},
   "outputs": [],
   "source": [
    "data_df = pd.DataFrame(data, columns = ['t', 'ca', 'cb', 'cc', 'cd'])"
   ]
  },
  {
   "cell_type": "code",
   "execution_count": 175,
   "metadata": {},
   "outputs": [],
   "source": [
    "data_df.to_csv('ABCD_data.csv', index = False)"
   ]
  },
  {
   "cell_type": "code",
   "execution_count": null,
   "metadata": {},
   "outputs": [],
   "source": []
  }
 ],
 "metadata": {
  "kernelspec": {
   "display_name": "Python 3",
   "language": "python",
   "name": "python3"
  },
  "language_info": {
   "codemirror_mode": {
    "name": "ipython",
    "version": 3
   },
   "file_extension": ".py",
   "mimetype": "text/x-python",
   "name": "python",
   "nbconvert_exporter": "python",
   "pygments_lexer": "ipython3",
   "version": "3.6.9"
  }
 },
 "nbformat": 4,
 "nbformat_minor": 2
}
