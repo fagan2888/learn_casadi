{
 "cells": [
  {
   "cell_type": "code",
   "execution_count": 4,
   "metadata": {},
   "outputs": [],
   "source": [
    "import casadi as csd\n",
    "import numpy as np\n",
    "import pandas as pd\n",
    "import matplotlib.pyplot as plt\n",
    "from scipy import linalg\n",
    "from scipy.stats import chi2, f"
   ]
  },
  {
   "cell_type": "code",
   "execution_count": 9,
   "metadata": {},
   "outputs": [],
   "source": [
    "# experimental conditions\n",
    "expcond = [{'c0': [1.0, 2.0, 0.0, 0.0]}, {'c0': [1.0, 1.0, 0.0, 0.0]}]\n",
    "meas_vars = [['ca', 'cb', 'cc'], ['ca', 'cc', 'cd']]\n",
    "meas_vars_idx = [[0, 1, 2], [0, 2, 3]]\n",
    "datasets = ['ABCD_data.csv', 'ABCD_data_2.csv']\n",
    "expdata = []\n",
    "for data in datasets:\n",
    "    data_df = pd.read_csv('ABCD_data.csv')\n",
    "    expdata.append(data_df)"
   ]
  },
  {
   "cell_type": "code",
   "execution_count": 6,
   "metadata": {},
   "outputs": [],
   "source": [
    "# stoichiometry matrix for\n",
    "# A + B -> C, B + C -> D\n",
    "s = np.array([[-1.0, -1.0, 1.0, 0.0],\n",
    "              [0.0, -1.0, -1.0, 1.0]\n",
    "             ])"
   ]
  },
  {
   "cell_type": "code",
   "execution_count": 7,
   "metadata": {},
   "outputs": [],
   "source": [
    "def rxnfn(kf, tf, s):\n",
    "    \n",
    "    nr, nc = s.shape\n",
    "    \n",
    "    c = csd.MX.sym('c', nc)\n",
    "    \n",
    "    r = []\n",
    "    for i in range(nr):\n",
    "        ri = kf[i]\n",
    "        for j in range(nc):\n",
    "            if s[i, j] < 0:\n",
    "                ri = ri * c[j] ** (-s[i, j])\n",
    "        r.append(ri) \n",
    "        \n",
    "    dc = []\n",
    "    for i in range(nc):\n",
    "        dci = 0\n",
    "        for j in range(nr):\n",
    "            dci = dci + s[j, i] * r[j]\n",
    "        dc.append(dci)\n",
    "        \n",
    "    ode = {}\n",
    "    ode['x'] = c\n",
    "    ode['p'] = kf\n",
    "    ode['ode'] = csd.vertcat(*dc)\n",
    "    \n",
    "    F = csd.integrator('F','cvodes',ode,{'tf':tf})\n",
    "    \n",
    "    return F"
   ]
  },
  {
   "cell_type": "code",
   "execution_count": 14,
   "metadata": {},
   "outputs": [],
   "source": [
    "expinfo_list = [{'data': expdata[i], 'meas_var': meas_vars[i], 'meas_var_idx': meas_vars_idx[i], 'c0': expcond[i]['c0']}\n",
    "                  for i in range(len(expdata))]"
   ]
  },
  {
   "cell_type": "code",
   "execution_count": 16,
   "metadata": {},
   "outputs": [],
   "source": [
    "def get_exp_ssq(kf, expinfo):\n",
    "    data = expinfo['data']\n",
    "    meas_var = expinfo['meas_var']\n",
    "    meas_var_idx = expinfo['meas_var_idx']\n",
    "    c0 = expinfo['c0']\n",
    "    tgrid = np.append(0, data['t'].values)\n",
    "    ssq = 0\n",
    "    for i in range(len(tgrid) - 1):\n",
    "        F = rxnfn(kf = kf, tf = tgrid[i + 1] - tgrid[i], s = s)\n",
    "        res = F(x0 = c0, p = kf)\n",
    "        c0 = res['xf']\n",
    "        for (j, var) in enumerate(meas_var):\n",
    "            ssq = ssq + (data.iloc[i][var] - res['xf'][meas_var_idx[j]]) ** 2\n",
    "    return ssq"
   ]
  },
  {
   "cell_type": "code",
   "execution_count": 28,
   "metadata": {},
   "outputs": [],
   "source": [
    "kf = csd.MX.sym('kf', 2)\n",
    "exp_ssq = 0\n",
    "for i in range(len(expdata)):\n",
    "    exp_ssq = exp_ssq + get_exp_ssq(kf, expinfo_list[0])"
   ]
  },
  {
   "cell_type": "code",
   "execution_count": 29,
   "metadata": {},
   "outputs": [],
   "source": [
    "exp_ssq_fn = csd.Function('exp_ssq_fn', [kf], [exp_ssq])"
   ]
  },
  {
   "cell_type": "code",
   "execution_count": 30,
   "metadata": {},
   "outputs": [],
   "source": [
    "# function to calcuate hessian of sum of squares with respect to p = (k1, k2)\n",
    "ssqfn_hess_calc = csd.hessian(exp_ssq_fn(kf), kf)\n",
    "ssqfn_hess = csd.Function('ssqfn_hess', [kf], [ssqfn_hess_calc[0]])"
   ]
  },
  {
   "cell_type": "code",
   "execution_count": 31,
   "metadata": {},
   "outputs": [
    {
     "name": "stdout",
     "output_type": "stream",
     "text": [
      "This is Ipopt version 3.12.3, running with linear solver mumps.\n",
      "NOTE: Other linear solvers might be more efficient (see Ipopt documentation).\n",
      "\n",
      "Number of nonzeros in equality constraint Jacobian...:        0\n",
      "Number of nonzeros in inequality constraint Jacobian.:        0\n",
      "Number of nonzeros in Lagrangian Hessian.............:        3\n",
      "\n",
      "Total number of variables............................:        2\n",
      "                     variables with only lower bounds:        0\n",
      "                variables with lower and upper bounds:        2\n",
      "                     variables with only upper bounds:        0\n",
      "Total number of equality constraints.................:        0\n",
      "Total number of inequality constraints...............:        0\n",
      "        inequality constraints with only lower bounds:        0\n",
      "   inequality constraints with lower and upper bounds:        0\n",
      "        inequality constraints with only upper bounds:        0\n",
      "\n",
      "iter    objective    inf_pr   inf_du lg(mu)  ||d||  lg(rg) alpha_du alpha_pr  ls\n",
      "   0  5.2297514e+01 0.00e+00 4.06e+00  -1.0 0.00e+00    -  0.00e+00 0.00e+00   0\n",
      "   1  5.2050847e+01 0.00e+00 4.11e+00  -1.0 4.10e-02   2.0 9.98e-01 1.00e+00f  1\n",
      "   2  5.1238149e+01 0.00e+00 4.42e+00  -1.0 1.32e-01   1.5 1.00e+00 1.00e+00f  1\n",
      "   3  4.7804292e+01 0.00e+00 5.95e+00  -1.0 5.07e-01   1.0 1.00e+00 1.00e+00f  1\n",
      "   4  4.5999314e+01 0.00e+00 6.92e+00  -1.0 2.30e-01   1.5 1.00e+00 1.00e+00f  1\n",
      "   5  2.6703128e+01 0.00e+00 2.41e+01  -1.0 1.40e+00   1.0 1.00e+00 1.00e+00f  1\n",
      "   6  1.7364320e+01 0.00e+00 2.64e+01  -1.0 1.26e+01   1.4 7.47e-01 2.69e-02f  2\n",
      "   7  1.4759539e+01 0.00e+00 1.74e+01  -1.0 4.58e-01   0.9 1.00e+00 3.76e-01f  2\n",
      "   8  1.3179094e+01 0.00e+00 3.34e+00  -1.0 7.23e-01   0.5 1.00e+00 1.00e+00f  1\n",
      "   9  1.2770361e+01 0.00e+00 4.49e+00  -1.0 3.11e+00    -  1.00e+00 2.35e-01f  2\n",
      "iter    objective    inf_pr   inf_du lg(mu)  ||d||  lg(rg) alpha_du alpha_pr  ls\n",
      "  10  1.2471252e+01 0.00e+00 1.05e+00  -1.0 1.28e-01    -  1.00e+00 1.00e+00f  1\n",
      "  11  1.2437672e+01 0.00e+00 1.60e-01  -1.0 6.87e-02    -  1.00e+00 1.00e+00f  1\n",
      "  12  1.2437199e+01 0.00e+00 4.16e-03  -2.5 6.80e-03    -  1.00e+00 1.00e+00f  1\n",
      "  13  1.2437199e+01 0.00e+00 2.73e-06  -3.8 4.28e-05    -  1.00e+00 1.00e+00f  1\n",
      "  14  1.2437199e+01 0.00e+00 4.44e-07  -5.7 1.23e-05    -  1.00e+00 1.00e+00f  1\n",
      "  15  1.2437199e+01 0.00e+00 6.01e-09  -8.6 1.69e-07    -  1.00e+00 1.00e+00f  1\n",
      "\n",
      "Number of Iterations....: 15\n",
      "\n",
      "                                   (scaled)                 (unscaled)\n",
      "Objective...............:   1.2437198842545014e+01    1.2437198842545014e+01\n",
      "Dual infeasibility......:   6.0075172694499997e-09    6.0075172694499997e-09\n",
      "Constraint violation....:   0.0000000000000000e+00    0.0000000000000000e+00\n",
      "Complementarity.........:   2.5062313939612974e-09    2.5062313939612974e-09\n",
      "Overall NLP error.......:   6.0075172694499997e-09    6.0075172694499997e-09\n",
      "\n",
      "\n",
      "Number of objective function evaluations             = 31\n",
      "Number of objective gradient evaluations             = 16\n",
      "Number of equality constraint evaluations            = 0\n",
      "Number of inequality constraint evaluations          = 0\n",
      "Number of equality constraint Jacobian evaluations   = 0\n",
      "Number of inequality constraint Jacobian evaluations = 0\n",
      "Number of Lagrangian Hessian evaluations             = 15\n",
      "Total CPU secs in IPOPT (w/o function evaluations)   =      0.064\n",
      "Total CPU secs in NLP function evaluations           =      3.539\n",
      "\n",
      "EXIT: Optimal Solution Found.\n",
      "      solver  :   t_proc      (avg)   t_wall      (avg)    n_eval\n",
      "       nlp_f  | 414.22ms ( 13.36ms) 413.95ms ( 13.35ms)        31\n",
      "  nlp_grad_f  | 926.88ms ( 54.52ms) 925.22ms ( 54.42ms)        17\n",
      "  nlp_hess_l  |   3.09 s (206.33ms)   3.09 s (206.01ms)        15\n",
      "       total  |   4.46 s (  4.46 s)   4.45 s (  4.45 s)         1\n"
     ]
    }
   ],
   "source": [
    "# NLP declaration\n",
    "nlp = {'x': kf,'f': exp_ssq};\n",
    "\n",
    "# Solve using IPOPT\n",
    "solver = csd.nlpsol('solver','ipopt',nlp)\n",
    "res = solver(x0=[3, 3], lbx = 0, ubx = 10)"
   ]
  },
  {
   "cell_type": "code",
   "execution_count": 32,
   "metadata": {},
   "outputs": [
    {
     "data": {
      "text/plain": [
       "DM([0.949272, 0.212212])"
      ]
     },
     "execution_count": 32,
     "metadata": {},
     "output_type": "execute_result"
    }
   ],
   "source": [
    "p_est = res['x']\n",
    "p_est"
   ]
  },
  {
   "cell_type": "code",
   "execution_count": 33,
   "metadata": {},
   "outputs": [
    {
     "name": "stdout",
     "output_type": "stream",
     "text": [
      "mean sum of squares 0.0857738\n",
      "Covariance matrix\n",
      "\n",
      "[[0.0162838, -0.000272307], \n",
      " [-0.000272307, 0.000427446]]\n"
     ]
    }
   ],
   "source": [
    "## calculate covariance matrix\n",
    "\n",
    "# number of estiamted parameters\n",
    "n_est = 2\n",
    "# number of data points\n",
    "n_data = data.shape[0] * len(meas_var)\n",
    "\n",
    "\n",
    "# hessian\n",
    "H_sol = ssqfn_hess(p_est)\n",
    "# mean sum of squares\n",
    "msq = res['f'] / (n_data - n_est)\n",
    "print(\"mean sum of squares\", msq)\n",
    "\n",
    "print(\"Covariance matrix\")\n",
    "cov = 2 * msq * linalg.inv(H_sol)\n",
    "print(cov)"
   ]
  },
  {
   "cell_type": "code",
   "execution_count": null,
   "metadata": {},
   "outputs": [],
   "source": []
  }
 ],
 "metadata": {
  "kernelspec": {
   "display_name": "Python 3",
   "language": "python",
   "name": "python3"
  },
  "language_info": {
   "codemirror_mode": {
    "name": "ipython",
    "version": 3
   },
   "file_extension": ".py",
   "mimetype": "text/x-python",
   "name": "python",
   "nbconvert_exporter": "python",
   "pygments_lexer": "ipython3",
   "version": "3.6.9"
  }
 },
 "nbformat": 4,
 "nbformat_minor": 2
}
